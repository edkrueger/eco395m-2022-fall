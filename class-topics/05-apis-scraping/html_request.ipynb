{
 "cells": [
  {
   "cell_type": "code",
   "execution_count": 1,
   "id": "d0e18b78-6814-4a09-8358-dc070fb2abb3",
   "metadata": {},
   "outputs": [],
   "source": [
    "import requests"
   ]
  },
  {
   "cell_type": "code",
   "execution_count": 6,
   "id": "1fcc417e-aa9e-43a7-a9ba-036a6287ada8",
   "metadata": {},
   "outputs": [],
   "source": [
    "dole_kemp_url = \"http://www.dolekemp96.org/main.htm\"\n",
    "r = requests.get(dole_kemp_url)"
   ]
  },
  {
   "cell_type": "code",
   "execution_count": 7,
   "id": "3b98c384-5ad9-4b8d-b87c-9651e2b8296b",
   "metadata": {},
   "outputs": [
    {
     "data": {
      "text/plain": [
       "200"
      ]
     },
     "execution_count": 7,
     "metadata": {},
     "output_type": "execute_result"
    }
   ],
   "source": [
    "r.status_code"
   ]
  },
  {
   "cell_type": "code",
   "execution_count": 8,
   "id": "9bed3a54-fca4-4696-b2e3-d1c1ba34de7a",
   "metadata": {},
   "outputs": [
    {
     "data": {
      "text/plain": [
       "'<html>\\r\\n\\r\\n<head>\\r\\n<meta http-equiv=\"Content-Type\" content=\"text/html; charset=windows-1252\">\\r\\n<meta name=\"GENERATOR\" content=\"Microsoft FrontPage 6.0\">\\r\\n<meta name=\"ProgId\" content=\"FrontPage.Editor.Document\">\\r\\n<META NAME=\"ROBOTS\" CONTENT=\"NOINDEX, NOFOLLOW\">\\r\\n<title>Dole Kemp \\'96</title>\\r\\n</head>\\r\\n\\r\\n<body vlink=\"#FF0000\" alink=\"#FF0000\" background=\"background.jpg\">\\r\\n\\r\\n<p align=\"center\"><img border=\"0\" src=\"left.gif\"><a href=\"http://www.dolekemp96.org/main.htm\"><img border=\"0\" src=\"dolekemp.gif\" width=\"355\" height=\"75\"></a><img border=\"0\" src=\"right.gif\" width=\"109\" height=\"75\"></p>\\r\\n\\r\\n<div align=\"center\">\\r\\n  <center>\\r\\n  <p align=\"center\">&nbsp;</p>\\r\\n  <table border=\"0\" cellpadding=\"0\" cellspacing=\"0\" width=\"513\" height=\"248\">\\r\\n    <tr>\\r\\n      <td width=\"125\" height=\"228\" rowspan=\"3\" valign=\"top\" align=\"left\"><b><font face=\"Times New Roman\" size=\"4\">Welcome<br>\\r\\n        Students</font></b>\\r\\n        <p style=\"word-spacing: 0; line-height: 100%; text-indent: 0; margin: 0\">&nbsp;</p>\\r\\n        <p style=\"word-spacing: 0; line-height: 100%; text-indent: 0; margin: 0\"><img border=\"0\" src=\"inbox.gif\" width=\"100\" height=\"14\"></p>\\r\\n        <p style=\"word-spacing: 0; line-height: 100%; text-indent: 0; margin: 0\"><u><font face=\"Times New Roman\" color=\"#0000FF\" size=\"1\">\\r\\n        <a href=\"http://www.dolekemp96.org/news/news.html\">Latest\\r\\n        News and</a> <a href=\"http://www.dolekemp96.org/news/news.html\">Updates</a></font></u><br>\\r\\n        </p>\\r\\n        <p style=\"word-spacing: 0; line-height: 100%; text-indent: 0; margin: 0\">&nbsp;</p>\\r\\n        <p style=\"word-spacing: 0; line-height: 100%; text-indent: 0; margin: 0\"><img border=\"0\" src=\"issues.gif\" width=\"100\" height=\"14\"></p>\\r\\n        <p style=\"word-spacing: 0; line-height: 100%; text-indent: 0; margin: 0\"><u><font face=\"Times New Roman\" color=\"#0000FF\" size=\"1\">\\r\\n        <a href=\"http://www.dolekemp96.org/agenda/issues/education.htm\">K-12\\r\\n        Education</a></font></u></p>\\r\\n        <p style=\"word-spacing: 0; line-height: 100%; text-indent: 0; margin: 0\"><u><font face=\"Times New Roman\" color=\"#0000FF\" size=\"1\">\\r\\n        <a href=\"http://www.dolekemp96.org/agenda/issues/internet.htm\">Technology\\r\\n        and</a></font></u></p>\\r\\n        <p style=\"word-spacing: 0; line-height: 100%; text-indent: 0; margin: 0\"><u><font face=\"Times New Roman\" color=\"#0000FF\" size=\"1\">\\r\\n        <a href=\"http://www.dolekemp96.org/agenda/issues/internet.htm\">Internet</a></font></u></p>\\r\\n        <p style=\"word-spacing: 0; line-height: 100%; text-indent: 0; margin: 0\"><img border=\"0\" src=\"homestate.gif\" width=\"100\" height=\"14\"></td>\\r\\n      <td width=\"14\" height=\"228\" rowspan=\"3\" valign=\"top\"><img height=\"225\" src=\"divider.gif\" width=\"12\"></td>\\r\\n      <td width=\"102\" height=\"88\" valign=\"top\">\\r\\n        <p style=\"word-spacing: 0; line-height: 100%; text-indent: 0; margin: 0\"><a href=\"http://www.dolekemp96.org/about/about.html\"><img border=\"0\" src=\"menuteam.gif\" width=\"100\" height=\"75\" alt=\"About the Team\"></a></p>\\r\\n        <p style=\"word-spacing: 0; line-height: 100%; text-indent: 0; margin-left: 0; margin-right: 0; margin-top: -5; margin-bottom: 0\" align=\"center\"><u><font face=\"Times New Roman\" color=\"#0000FF\" size=\"1\">\\r\\n        <a href=\"http://www.dolekemp96.org/about/about.html\">About\\r\\n        the Team</a></font></u></p>\\r\\n        <p style=\"word-spacing: 0; line-height: 100%; text-indent: 0; margin-left: 0; margin-right: 0; margin-top: -5; margin-bottom: 0\" align=\"center\"><font face=\"Times New Roman\" size=\"1\">The\\r\\n        Story of</font></p>\\r\\n        <p style=\"word-spacing: 0; line-height: 100%; text-indent: 0; margin-left: 0; margin-right: 0; margin-top: -5; margin-bottom: 0\" align=\"center\"><font face=\"Times New Roman\" size=\"1\">&nbsp;American\\r\\n        Heros.</font></td>\\r\\n      <td width=\"102\" height=\"88\" valign=\"top\">\\r\\n        <p style=\"word-spacing: 0; line-height: 100%; text-indent: 0; margin: 0\"><img border=\"0\" src=\"menuinteractive.gif\" width=\"100\" height=\"75\"></p>\\r\\n        <p style=\"word-spacing: 0; line-height: 100%; text-indent: 0; margin-left: 0; margin-right: 0; margin-top: -5; margin-bottom: 0\" align=\"center\"><u><font face=\"Times New Roman\" color=\"#0000FF\" size=\"1\">\\r\\n        <a href=\"http://www.dolekemp96.org/interactive/interactive.html\">Dole\\r\\n        Interactive</a></font></u></p>\\r\\n        <p style=\"word-spacing: 0; line-height: 100%; text-indent: 0; margin-left: 0; margin-right: 0; margin-top: -5; margin-bottom: 0\" align=\"center\"><font face=\"Times New Roman\" size=\"1\">Games,<span style=\"letter-spacing: -1\">\\r\\n        </span>trivia,<span style=\"letter-spacing: -2\"> </span>posters,</font></p>\\r\\n        <p style=\"word-spacing: 0; line-height: 100%; text-indent: 0; margin-left: 0; margin-right: 0; margin-top: -5; margin-bottom: 0\" align=\"center\"><font face=\"Times New Roman\" size=\"1\">and</font>\\r\\n        <font face=\"Times New Roman\" size=\"1\">postcards.</font></td>\\r\\n      <td width=\"102\" height=\"88\" valign=\"top\">\\r\\n        <p style=\"word-spacing: 0; line-height: 100%; text-indent: 0; margin: 0\"><a href=\"http://www.dolekemp96.org/agenda/agenda.html\"><img border=\"0\" src=\"menuagenda.gif\" width=\"100\" height=\"75\"></a></p>\\r\\n        <p style=\"word-spacing: 0; line-height: 100%; text-indent: 0; margin-left: 0; margin-right: 0; margin-top: -5; margin-bottom: 0\" align=\"center\"><u><font face=\"Times New Roman\" color=\"#0000FF\" size=\"1\"><a href=\"http://www.dolekemp96.org/agenda/agenda.html\">The\\r\\n        Dole Agenda</a></font></u></p>\\r\\n        <p style=\"word-spacing: 0; line-height: 100%; text-indent: 0; margin-left: 0; margin-right: 0; margin-top: -5; margin-bottom: 0\" align=\"center\"><font face=\"Times New Roman\" size=\"1\">Policy,\\r\\n        local issues,</font></p>\\r\\n        <p style=\"word-spacing: 0; line-height: 100%; text-indent: 0; margin-left: 0; margin-right: 0; margin-top: -5; margin-bottom: 0\" align=\"center\"><font face=\"Times New Roman\" size=\"1\">&nbsp;and\\r\\n        feedback.</font></td>\\r\\n      <td width=\"14\" height=\"228\" rowspan=\"3\" valign=\"top\"><img height=\"225\" src=\"divider.gif\" width=\"12\"></td>\\r\\n      <td width=\"130\" height=\"228\" rowspan=\"3\" valign=\"top\" align=\"left\"><b><font face=\"Times New Roman\" size=\"4\">Today\\'s<br>\\r\\n        Headlines</font></b>\\r\\n        <p style=\"word-spacing: 0; line-height: 100%; text-indent: 0; margin: 0\"><font face=\"Times New Roman\" size=\"2\">November\\r\\n        5, 1996</font></p>\\r\\n        <p style=\"word-spacing: 0; line-height: 100%; text-indent: 0; margin: 0\"><img border=\"0\" src=\"topstories.gif\" width=\"100\" height=\"14\"></p>\\r\\n        <p style=\"word-spacing: 0; line-height: 100%; text-indent: 0; margin: 0\"><u><font face=\"Times New Roman\" color=\"#0000FF\" size=\"1\">Follow\\r\\n        along on the Victory Marathon</font></u></p>\\r\\n        <p style=\"word-spacing: 0; line-height: 100%; text-indent: 0; margin: 0\"><font face=\"Times New Roman\" size=\"1\" color=\"#0000FF\"><u>Calculate\\r\\n        your tax cut!</u></font></p>\\r\\n        <p style=\"word-spacing: 0; line-height: 100%; text-indent: 0; margin: 0\">&nbsp;</p>\\r\\n        <p style=\"word-spacing: 0; line-height: 100%; text-indent: 0; margin: 0\"><img border=\"0\" src=\"features.gif\" width=\"100\" height=\"14\"></p>\\r\\n        <p style=\"word-spacing: 0; line-height: 100%; text-indent: 0; margin: 0\"><u><font face=\"Times New Roman\" color=\"#0000FF\" size=\"1\">\\r\\n        <a href=\"http://www.dolekemp96.org/news/speeches/speeches.htm\">Speeches</a></font></u></td>\\r\\n    </tr>\\r\\n    <tr>\\r\\n      <td width=\"102\" height=\"88\" valign=\"top\"><img border=\"0\" src=\"menuinvolved.gif\" width=\"100\" height=\"75\">\\r\\n        <p style=\"word-spacing: 0; line-height: 100%; text-indent: 0; margin-left: 0; margin-right: 0; margin-top: -5; margin-bottom: 0\" align=\"center\"><u><font face=\"Times New Roman\" color=\"#0000FF\" size=\"1\">Get\\r\\n        Involved</font></u></p>\\r\\n        <p style=\"word-spacing: 0; line-height: 100%; text-indent: 0; margin-left: 0; margin-right: 0; margin-top: -5; margin-bottom: 0\" align=\"center\"><font face=\"Times New Roman\" size=\"1\">How\\r\\n        can you help</font></p>\\r\\n        <p style=\"word-spacing: 0; line-height: 100%; text-indent: 0; margin-left: 0; margin-right: 0; margin-top: -5; margin-bottom: 0\" align=\"center\"><font face=\"Times New Roman\" size=\"1\">elect\\r\\n        Bob Dole.</font></td>\\r\\n      <td width=\"102\" height=\"88\" valign=\"top\"><a href=\"http://www.dolekemp96.org/trail/debates/debates.htm\"><img border=\"0\" src=\"menutrail.gif\" width=\"100\" height=\"75\">\\r\\n        </a>\\r\\n        <p style=\"word-spacing: 0; line-height: 100%; text-indent: 0; margin-left: 0; margin-right: 0; margin-top: -5; margin-bottom: 0\" align=\"center\"><u><font face=\"Times New Roman\" color=\"#0000FF\" size=\"1\">\\r\\n        <a href=\"http://www.dolekemp96.org/trail/trail.html\">On\\r\\n        the Campaign Trail</a></font></u></p>\\r\\n        <p style=\"word-spacing: 0; line-height: 100%; text-indent: 0; margin-left: 0; margin-right: 0; margin-top: -5; margin-bottom: 0\" align=\"center\"><font face=\"Times New Roman\" size=\"1\">Follow\\r\\n        the campaign</font></p>\\r\\n        <p style=\"word-spacing: 0; line-height: 100%; text-indent: 0; margin-left: 0; margin-right: 0; margin-top: -5; margin-bottom: 0\" align=\"center\"><font face=\"Times New Roman\" size=\"1\">around\\r\\n        America.</font></td>\\r\\n      <td width=\"102\" height=\"88\" valign=\"top\" align=\"center\">\\r\\n      <a href=\"http://www.dolekemp96.org/praug296.htm\"><img border=\"0\" src=\"menunewsroom.gif\" width=\"100\" height=\"75\"></a>\\r\\n        <p style=\"word-spacing: 0; line-height: 100%; text-indent: 0; margin-left: 0; margin-right: 0; margin-top: -5; margin-bottom: 0\" align=\"center\"><u><font face=\"Times New Roman\" color=\"#0000FF\" size=\"1\">\\r\\n        <a href=\"http://www.dolekemp96.org/news/news.html\">News\\r\\n        Room</a></font></u></p>\\r\\n        <p style=\"word-spacing: 0; line-height: 100%; text-indent: 0; margin-left: 0; margin-right: 0; margin-top: -5; margin-bottom: 0\" align=\"center\"><font face=\"Times New Roman\" size=\"1\">The\\r\\n        Latest news</font></p>\\r\\n        <p style=\"word-spacing: 0; line-height: 100%; text-indent: 0; margin-left: 0; margin-right: 0; margin-top: -5; margin-bottom: 0\" align=\"center\"><font face=\"Times New Roman\" size=\"1\">and\\r\\n        information.</font></td>\\r\\n    </tr>\\r\\n    <tr>\\r\\n      <td width=\"312\" height=\"52\" colspan=\"3\"></td>\\r\\n    </tr>\\r\\n  </table>\\r\\n  </center>\\r\\n</div>\\r\\n<p align=\"center\"><a href=\"main.htm\"><img border=\"0\" src=\"dolekemp96anim.gif\" width=\"500\" height=\"50\"></a></p>\\r\\n\\r\\n<p align=\"center\"><font color=\"#000080\" face=\"Times New Roman\" size=\"4\">More\\r\\nopportunities. Smaller government. Stronger and safer families</font></p>\\r\\n\\r\\n<p align=\"center\" style=\"word-spacing: 0; line-height: 100%; text-indent: 0; margin: 0\"><font face=\"Times New Roman\" color=\"#0000FF\" size=\"1\"><u><a href=\"http://www.dolekemp96.org/main.htm\">Homepage</a></u>\\r\\n| <u>Register</u> | <u>Volunteers</u> | <u>Donations</u></font></p>\\r\\n\\r\\n<p align=\"center\" style=\"word-spacing: 0; line-height: 100%; text-indent: 0; margin: 0\"><font face=\"Times New Roman\" color=\"#0000FF\" size=\"1\"><u><a href=\"http://www.dolekemp96.org/about/about.html\">About\\r\\nthe Team</a></u> | <u>\\r\\n<a href=\"http://www.dolekemp96.org/interactive/interactive.html\">Dole Interactive</a></u> | <u>\\r\\n<a href=\"http://www.dolekemp96.org/news/news.html\">Newsroom</a></u> | <u><a href=\"http://www.dolekemp96.org/agenda/agenda.html\">The Dole Agenda</a></u><a href=\"http://www.dolekemp96.org/agenda/agenda.html\">\\r\\n</a>| <u><a href=\"http://www.dolekemp96.org/trail/trail.html\">On the Campaign Trail</a></u> | <u>Get Involved</u></font></p>\\r\\n\\r\\n<p align=\"center\" style=\"word-spacing: 0; line-height: 100%; text-indent: 0; margin: 0\">&nbsp;</p>\\r\\n\\r\\n<p style=\"word-spacing: 0; line-height: 100%; text-indent: 0; margin-left: 0; margin-right: 0; margin-top: -5; margin-bottom: 0\" align=\"center\"><font face=\"Times New Roman\" size=\"1\">Originally\\r\\nPaid for by Dole Kemp \\'96 Campaign Committee</font></p>\\r\\n<p style=\"word-spacing: 0; line-height: 100%; text-indent: 0; margin-left: 0; margin-right: 0; margin-top: -5; margin-bottom: 0\" align=\"center\"><font face=\"Times New Roman\" size=\"1\">Original\\r\\nWeb Design by <a href=\"http://www.presageinc.com/index.shtml\"> Presage Internet Campaigns</a></font></p>\\r\\n<p style=\"word-spacing: 0; line-height: 100%; text-indent: 0; margin-left: 0; margin-right: 0; margin-top: -5; margin-bottom: 0\" align=\"center\"><font face=\"Times New Roman\" size=\"1\">To\\r\\nLearn more about Bob Dole, Please Visit the <a href=\"http://www.doleinstitute.org\"> Dole Institute</a></font></p>\\r\\n<p style=\"word-spacing: 0; line-height: 100%; text-indent: 0; margin-left: 0; margin-right: 0; margin-top: -5; margin-bottom: 0\" align=\"center\"><font face=\"Times New Roman\" size=\"1\">This\\r\\nWeb Site is Presented for Educational Purposes by <a href=\"http://www.4President.org\"> 4President.org</a></font></p>\\r\\n\\r\\n</body>\\r\\n\\r\\n</html>\\r\\n'"
      ]
     },
     "execution_count": 8,
     "metadata": {},
     "output_type": "execute_result"
    }
   ],
   "source": [
    "r.text"
   ]
  },
  {
   "cell_type": "code",
   "execution_count": null,
   "id": "e55d6cd7-eb14-4793-b0c9-b115512a73ed",
   "metadata": {},
   "outputs": [],
   "source": []
  }
 ],
 "metadata": {
  "environment": {
   "kernel": "python3",
   "name": "common-cpu.m89",
   "type": "gcloud",
   "uri": "gcr.io/deeplearning-platform-release/base-cpu:m89"
  },
  "kernelspec": {
   "display_name": "Python 3",
   "language": "python",
   "name": "python3"
  },
  "language_info": {
   "codemirror_mode": {
    "name": "ipython",
    "version": 3
   },
   "file_extension": ".py",
   "mimetype": "text/x-python",
   "name": "python",
   "nbconvert_exporter": "python",
   "pygments_lexer": "ipython3",
   "version": "3.7.12"
  }
 },
 "nbformat": 4,
 "nbformat_minor": 5
}
