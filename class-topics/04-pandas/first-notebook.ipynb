{
 "cells": [
  {
   "cell_type": "markdown",
   "id": "48129b65-ec43-4f7e-af31-94a92504f1bd",
   "metadata": {},
   "source": [
    "# header 1\n",
    "## header 2\n",
    "*b*  \n",
    "_i_  \n",
    "$\\frac{a}{b}$\n",
    "$$\\frac{a}{b}$$"
   ]
  },
  {
   "cell_type": "code",
   "execution_count": 1,
   "id": "49958ecc-282c-4af8-979c-7d77f7793a1b",
   "metadata": {},
   "outputs": [
    {
     "name": "stdout",
     "output_type": "stream",
     "text": [
      "Hello World\n"
     ]
    }
   ],
   "source": [
    "print(\"Hello World\")"
   ]
  },
  {
   "cell_type": "code",
   "execution_count": 2,
   "id": "6e14bae7-5e65-4627-869a-61788b5b8333",
   "metadata": {},
   "outputs": [],
   "source": [
    "x = 1234"
   ]
  },
  {
   "cell_type": "code",
   "execution_count": 3,
   "id": "d97761b6-af70-4007-b389-335e3cd7122d",
   "metadata": {},
   "outputs": [
    {
     "data": {
      "text/plain": [
       "1234"
      ]
     },
     "execution_count": 3,
     "metadata": {},
     "output_type": "execute_result"
    }
   ],
   "source": [
    "x"
   ]
  },
  {
   "cell_type": "code",
   "execution_count": 4,
   "id": "24dfe26e-017f-4d65-b0c1-2e413dfc893a",
   "metadata": {},
   "outputs": [
    {
     "data": {
      "text/plain": [
       "1879080904"
      ]
     },
     "execution_count": 4,
     "metadata": {},
     "output_type": "execute_result"
    }
   ],
   "source": [
    "y = x ** 3\n",
    "y"
   ]
  }
 ],
 "metadata": {
  "environment": {
   "kernel": "python3",
   "name": "common-cpu.m89",
   "type": "gcloud",
   "uri": "gcr.io/deeplearning-platform-release/base-cpu:m89"
  },
  "kernelspec": {
   "display_name": "Python 3",
   "language": "python",
   "name": "python3"
  },
  "language_info": {
   "codemirror_mode": {
    "name": "ipython",
    "version": 3
   },
   "file_extension": ".py",
   "mimetype": "text/x-python",
   "name": "python",
   "nbconvert_exporter": "python",
   "pygments_lexer": "ipython3",
   "version": "3.7.12"
  }
 },
 "nbformat": 4,
 "nbformat_minor": 5
}
