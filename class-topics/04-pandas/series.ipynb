{
 "cells": [
  {
   "cell_type": "code",
   "execution_count": 1,
   "id": "075119d9-f62f-450e-b754-53db79abb717",
   "metadata": {},
   "outputs": [],
   "source": [
    "import pandas as pd"
   ]
  },
  {
   "cell_type": "code",
   "execution_count": 2,
   "id": "7d68c514-5ae6-4204-9602-f27055ee794d",
   "metadata": {},
   "outputs": [],
   "source": [
    "series_w_num_idx = pd.Series([145, 142, 38, 13])"
   ]
  },
  {
   "cell_type": "code",
   "execution_count": 3,
   "id": "46b72e4f-8e8d-4815-9326-4ddcb9620545",
   "metadata": {},
   "outputs": [
    {
     "data": {
      "text/plain": [
       "0    145\n",
       "1    142\n",
       "2     38\n",
       "3     13\n",
       "dtype: int64"
      ]
     },
     "execution_count": 3,
     "metadata": {},
     "output_type": "execute_result"
    }
   ],
   "source": [
    "series_w_num_idx"
   ]
  },
  {
   "cell_type": "code",
   "execution_count": 4,
   "id": "bb6d0e25-c86a-482f-b395-3181da86fe90",
   "metadata": {},
   "outputs": [
    {
     "data": {
      "text/plain": [
       "38"
      ]
     },
     "execution_count": 4,
     "metadata": {},
     "output_type": "execute_result"
    }
   ],
   "source": [
    "series_w_num_idx[2]"
   ]
  },
  {
   "cell_type": "code",
   "execution_count": 5,
   "id": "122e2734-538c-4319-aa48-0d2a91f3a3b7",
   "metadata": {},
   "outputs": [],
   "source": [
    "series_w_str_index = pd.Series(\n",
    "    data=[145, 142, 38, 13],\n",
    "    index=['Paul', 'John', 'George', 'Ringo']\n",
    ")"
   ]
  },
  {
   "cell_type": "code",
   "execution_count": 6,
   "id": "f222753f-1b91-4657-8476-b306f8412e89",
   "metadata": {},
   "outputs": [
    {
     "data": {
      "text/plain": [
       "Paul      145\n",
       "John      142\n",
       "George     38\n",
       "Ringo      13\n",
       "dtype: int64"
      ]
     },
     "execution_count": 6,
     "metadata": {},
     "output_type": "execute_result"
    }
   ],
   "source": [
    "series_w_str_index"
   ]
  },
  {
   "cell_type": "code",
   "execution_count": 7,
   "id": "aa065044-36ec-4bbe-95bd-3163762909bf",
   "metadata": {},
   "outputs": [
    {
     "data": {
      "text/plain": [
       "38"
      ]
     },
     "execution_count": 7,
     "metadata": {},
     "output_type": "execute_result"
    }
   ],
   "source": [
    "series_w_str_index['George']"
   ]
  },
  {
   "cell_type": "code",
   "execution_count": 8,
   "id": "8ec2b022-2315-4731-998d-8ee4c99de25d",
   "metadata": {},
   "outputs": [
    {
     "data": {
      "text/plain": [
       "Index(['Paul', 'John', 'George', 'Ringo'], dtype='object')"
      ]
     },
     "execution_count": 8,
     "metadata": {},
     "output_type": "execute_result"
    }
   ],
   "source": [
    "series_w_str_index.index"
   ]
  },
  {
   "cell_type": "code",
   "execution_count": 9,
   "id": "871159be-3447-49f0-9b0e-5eb909fc442e",
   "metadata": {},
   "outputs": [
    {
     "data": {
      "text/plain": [
       "array([145, 142,  38,  13])"
      ]
     },
     "execution_count": 9,
     "metadata": {},
     "output_type": "execute_result"
    }
   ],
   "source": [
    "series_w_str_index.values"
   ]
  },
  {
   "cell_type": "code",
   "execution_count": 10,
   "id": "932bb751-b6d0-46dd-b743-992dff3c3cdf",
   "metadata": {},
   "outputs": [
    {
     "data": {
      "text/plain": [
       "Paul      435\n",
       "John      426\n",
       "George    114\n",
       "Ringo      39\n",
       "dtype: int64"
      ]
     },
     "execution_count": 10,
     "metadata": {},
     "output_type": "execute_result"
    }
   ],
   "source": [
    "3 * series_w_str_index"
   ]
  },
  {
   "cell_type": "code",
   "execution_count": 11,
   "id": "589f9682-b610-4e6a-a6e9-fa58077affb6",
   "metadata": {},
   "outputs": [],
   "source": [
    "x = pd.Series([1, 2, 3])\n",
    "y = pd.Series([1, 2, 3])"
   ]
  },
  {
   "cell_type": "code",
   "execution_count": 12,
   "id": "8944c1ed-37b8-4505-82c2-823c4953ff95",
   "metadata": {},
   "outputs": [
    {
     "data": {
      "text/plain": [
       "0    2\n",
       "1    4\n",
       "2    6\n",
       "dtype: int64"
      ]
     },
     "execution_count": 12,
     "metadata": {},
     "output_type": "execute_result"
    }
   ],
   "source": [
    "x + y"
   ]
  },
  {
   "cell_type": "code",
   "execution_count": 13,
   "id": "e6a76ed8-bf29-4b64-bf93-7945795db6a6",
   "metadata": {},
   "outputs": [
    {
     "data": {
      "text/plain": [
       "338"
      ]
     },
     "execution_count": 13,
     "metadata": {},
     "output_type": "execute_result"
    }
   ],
   "source": [
    "series_w_str_index.sum()"
   ]
  },
  {
   "cell_type": "code",
   "execution_count": 14,
   "id": "0fee3b99-38a2-465b-aca1-551fb43dcc58",
   "metadata": {},
   "outputs": [
    {
     "data": {
      "text/plain": [
       "13"
      ]
     },
     "execution_count": 14,
     "metadata": {},
     "output_type": "execute_result"
    }
   ],
   "source": [
    "series_w_str_index.min()"
   ]
  },
  {
   "cell_type": "code",
   "execution_count": 15,
   "id": "2b63d175-0ee1-4c88-9c82-eec49385abad",
   "metadata": {},
   "outputs": [
    {
     "data": {
      "text/plain": [
       "145"
      ]
     },
     "execution_count": 15,
     "metadata": {},
     "output_type": "execute_result"
    }
   ],
   "source": [
    "series_w_str_index.max()"
   ]
  },
  {
   "cell_type": "code",
   "execution_count": 16,
   "id": "70b2ee6d-cdca-42c4-93aa-5fada8e739b9",
   "metadata": {},
   "outputs": [
    {
     "data": {
      "text/plain": [
       "84.5"
      ]
     },
     "execution_count": 16,
     "metadata": {},
     "output_type": "execute_result"
    }
   ],
   "source": [
    "series_w_str_index.mean()"
   ]
  },
  {
   "cell_type": "code",
   "execution_count": 17,
   "id": "b694242b-9a77-42b6-8017-126ebd98b71e",
   "metadata": {},
   "outputs": [
    {
     "data": {
      "text/plain": [
       "90.0"
      ]
     },
     "execution_count": 17,
     "metadata": {},
     "output_type": "execute_result"
    }
   ],
   "source": [
    "series_w_str_index.median()"
   ]
  },
  {
   "cell_type": "code",
   "execution_count": 18,
   "id": "c3306fed-f942-4999-9f1e-87afe6d2ef12",
   "metadata": {},
   "outputs": [],
   "source": [
    "str_series_a = pd.Series([\"hello\", \"world\"])\n",
    "str_series_b = pd.Series([\"world\", \"hello\"])"
   ]
  },
  {
   "cell_type": "code",
   "execution_count": 19,
   "id": "9fd8957c-7f03-44af-867f-d216fa2da20c",
   "metadata": {},
   "outputs": [
    {
     "data": {
      "text/plain": [
       "0    Hello\n",
       "1    World\n",
       "dtype: object"
      ]
     },
     "execution_count": 19,
     "metadata": {},
     "output_type": "execute_result"
    }
   ],
   "source": [
    "str_series_a.str.capitalize()"
   ]
  },
  {
   "cell_type": "code",
   "execution_count": 20,
   "id": "96abe890-2f5c-41fa-9344-acdfaea13adc",
   "metadata": {},
   "outputs": [
    {
     "data": {
      "text/plain": [
       "0    helloworld\n",
       "1    worldhello\n",
       "dtype: object"
      ]
     },
     "execution_count": 20,
     "metadata": {},
     "output_type": "execute_result"
    }
   ],
   "source": [
    "str_series_a +  str_series_b"
   ]
  },
  {
   "cell_type": "code",
   "execution_count": 21,
   "id": "f29c27dc-68d1-41af-a8ef-ded80a6416ec",
   "metadata": {},
   "outputs": [
    {
     "data": {
      "text/plain": [
       "0    hellohellohello\n",
       "1    worldworldworld\n",
       "dtype: object"
      ]
     },
     "execution_count": 21,
     "metadata": {},
     "output_type": "execute_result"
    }
   ],
   "source": [
    "3 * str_series_a"
   ]
  },
  {
   "cell_type": "code",
   "execution_count": 22,
   "id": "07ef756d-a44a-47b4-b6b0-37c097e5fc80",
   "metadata": {},
   "outputs": [
    {
     "data": {
      "text/plain": [
       "Paul      145\n",
       "John      142\n",
       "George     38\n",
       "Ringo      13\n",
       "dtype: int64"
      ]
     },
     "execution_count": 22,
     "metadata": {},
     "output_type": "execute_result"
    }
   ],
   "source": [
    "series_w_str_index"
   ]
  },
  {
   "cell_type": "code",
   "execution_count": 23,
   "id": "886f5f10-5829-48fd-bec2-4571ca7c8d6f",
   "metadata": {},
   "outputs": [],
   "source": [
    "def mult_plus(n):\n",
    "    return n ** 2 + 100"
   ]
  },
  {
   "cell_type": "code",
   "execution_count": 24,
   "id": "1484a017-faed-42e9-aa00-c353f7f83d8f",
   "metadata": {},
   "outputs": [
    {
     "data": {
      "text/plain": [
       "Paul      21125\n",
       "John      20264\n",
       "George     1544\n",
       "Ringo       269\n",
       "dtype: int64"
      ]
     },
     "execution_count": 24,
     "metadata": {},
     "output_type": "execute_result"
    }
   ],
   "source": [
    "series_w_str_index.apply(mult_plus)"
   ]
  },
  {
   "cell_type": "code",
   "execution_count": 25,
   "id": "a7ea7176-4c62-4ddf-9620-be925783644a",
   "metadata": {},
   "outputs": [
    {
     "data": {
      "text/plain": [
       "Paul      21125\n",
       "John      20264\n",
       "George     1544\n",
       "Ringo       269\n",
       "dtype: int64"
      ]
     },
     "execution_count": 25,
     "metadata": {},
     "output_type": "execute_result"
    }
   ],
   "source": [
    "series_w_str_index.apply(lambda n: n ** 2 + 100)"
   ]
  },
  {
   "cell_type": "code",
   "execution_count": 26,
   "id": "f3f420b9-9be4-42ce-993f-cc9e5e833567",
   "metadata": {},
   "outputs": [
    {
     "data": {
      "text/plain": [
       "Paul      21125\n",
       "John      20264\n",
       "George     1544\n",
       "Ringo       269\n",
       "dtype: int64"
      ]
     },
     "execution_count": 26,
     "metadata": {},
     "output_type": "execute_result"
    }
   ],
   "source": [
    "series_w_str_index ** 2 + 100"
   ]
  },
  {
   "cell_type": "code",
   "execution_count": null,
   "id": "dbdd2115-3e3a-45c6-bc2b-ba8db179af29",
   "metadata": {},
   "outputs": [],
   "source": []
  }
 ],
 "metadata": {
  "environment": {
   "kernel": "python3",
   "name": "common-cpu.m89",
   "type": "gcloud",
   "uri": "gcr.io/deeplearning-platform-release/base-cpu:m89"
  },
  "kernelspec": {
   "display_name": "Python 3",
   "language": "python",
   "name": "python3"
  },
  "language_info": {
   "codemirror_mode": {
    "name": "ipython",
    "version": 3
   },
   "file_extension": ".py",
   "mimetype": "text/x-python",
   "name": "python",
   "nbconvert_exporter": "python",
   "pygments_lexer": "ipython3",
   "version": "3.7.12"
  }
 },
 "nbformat": 4,
 "nbformat_minor": 5
}
