{
 "cells": [
  {
   "cell_type": "code",
   "execution_count": 1,
   "id": "b66f1c6b-86c2-496e-a9e8-c8aefabcd1f7",
   "metadata": {},
   "outputs": [],
   "source": [
    "import pandas as pd"
   ]
  },
  {
   "cell_type": "code",
   "execution_count": 2,
   "id": "2b73ad94-aa49-4739-ac32-0b93c819fa0e",
   "metadata": {},
   "outputs": [],
   "source": [
    "df = pd.read_csv(\"data/facebook/reaction_counts.csv\")"
   ]
  },
  {
   "cell_type": "code",
   "execution_count": 3,
   "id": "33faca9c-3a1e-4895-9a40-3c2812450a22",
   "metadata": {},
   "outputs": [
    {
     "data": {
      "text/html": [
       "<div>\n",
       "<style scoped>\n",
       "    .dataframe tbody tr th:only-of-type {\n",
       "        vertical-align: middle;\n",
       "    }\n",
       "\n",
       "    .dataframe tbody tr th {\n",
       "        vertical-align: top;\n",
       "    }\n",
       "\n",
       "    .dataframe thead th {\n",
       "        text-align: right;\n",
       "    }\n",
       "</style>\n",
       "<table border=\"1\" class=\"dataframe\">\n",
       "  <thead>\n",
       "    <tr style=\"text-align: right;\">\n",
       "      <th></th>\n",
       "      <th>status_id</th>\n",
       "      <th>status_message</th>\n",
       "      <th>link_name</th>\n",
       "      <th>status_type</th>\n",
       "      <th>status_link</th>\n",
       "      <th>status_published</th>\n",
       "      <th>num_reactions</th>\n",
       "      <th>num_comments</th>\n",
       "      <th>num_shares</th>\n",
       "      <th>num_likes</th>\n",
       "      <th>num_loves</th>\n",
       "      <th>num_wows</th>\n",
       "      <th>num_hahas</th>\n",
       "      <th>num_sads</th>\n",
       "      <th>num_angrys</th>\n",
       "    </tr>\n",
       "  </thead>\n",
       "  <tbody>\n",
       "    <tr>\n",
       "      <th>0</th>\n",
       "      <td>153080620724_10157915294545725</td>\n",
       "      <td>Beautiful evening in Wisconsin- THANK YOU for ...</td>\n",
       "      <td>Timeline Photos</td>\n",
       "      <td>photo</td>\n",
       "      <td>https://www.facebook.com/DonaldTrump/photos/a....</td>\n",
       "      <td>2016-10-17T20:56:51</td>\n",
       "      <td>6813</td>\n",
       "      <td>543</td>\n",
       "      <td>359</td>\n",
       "      <td>6178</td>\n",
       "      <td>572</td>\n",
       "      <td>39</td>\n",
       "      <td>17</td>\n",
       "      <td>0</td>\n",
       "      <td>7</td>\n",
       "    </tr>\n",
       "    <tr>\n",
       "      <th>1</th>\n",
       "      <td>153080620724_10157914483265725</td>\n",
       "      <td>The State Department's quid pro quo scheme pro...</td>\n",
       "      <td>NaN</td>\n",
       "      <td>video</td>\n",
       "      <td>https://www.facebook.com/DonaldTrump/videos/10...</td>\n",
       "      <td>2016-10-17T18:00:41</td>\n",
       "      <td>33768</td>\n",
       "      <td>3644</td>\n",
       "      <td>17653</td>\n",
       "      <td>26649</td>\n",
       "      <td>487</td>\n",
       "      <td>1155</td>\n",
       "      <td>75</td>\n",
       "      <td>191</td>\n",
       "      <td>5211</td>\n",
       "    </tr>\n",
       "    <tr>\n",
       "      <th>2</th>\n",
       "      <td>153080620724_10157913199155725</td>\n",
       "      <td>Crooked Hillary's State Department colluded wi...</td>\n",
       "      <td>NaN</td>\n",
       "      <td>video</td>\n",
       "      <td>https://www.facebook.com/DonaldTrump/videos/10...</td>\n",
       "      <td>2016-10-17T15:34:46</td>\n",
       "      <td>85627</td>\n",
       "      <td>8810</td>\n",
       "      <td>32594</td>\n",
       "      <td>73519</td>\n",
       "      <td>2943</td>\n",
       "      <td>1020</td>\n",
       "      <td>330</td>\n",
       "      <td>263</td>\n",
       "      <td>7552</td>\n",
       "    </tr>\n",
       "    <tr>\n",
       "      <th>3</th>\n",
       "      <td>153080620724_10157912962325725</td>\n",
       "      <td>JournoCash: Media gives $382,000 to Clinton, $...</td>\n",
       "      <td>JournoCash: Media gives $382,000 to Clinton, $...</td>\n",
       "      <td>link</td>\n",
       "      <td>http://www.washingtonexaminer.com/journocash-m...</td>\n",
       "      <td>2016-10-17T14:17:24</td>\n",
       "      <td>22696</td>\n",
       "      <td>3665</td>\n",
       "      <td>5082</td>\n",
       "      <td>14029</td>\n",
       "      <td>122</td>\n",
       "      <td>2091</td>\n",
       "      <td>241</td>\n",
       "      <td>286</td>\n",
       "      <td>5927</td>\n",
       "    </tr>\n",
       "    <tr>\n",
       "      <th>4</th>\n",
       "      <td>153080620724_10157912187170725</td>\n",
       "      <td>Exclusive: \"O'Keefe Video Sting Exposes 'Bird-...</td>\n",
       "      <td>O'Keefe Reveals 'Bird-Dogging' to Incite Viole...</td>\n",
       "      <td>link</td>\n",
       "      <td>http://www.breitbart.com/big-government/2016/1...</td>\n",
       "      <td>2016-10-17T12:03:19</td>\n",
       "      <td>40729</td>\n",
       "      <td>4905</td>\n",
       "      <td>17087</td>\n",
       "      <td>26472</td>\n",
       "      <td>178</td>\n",
       "      <td>2588</td>\n",
       "      <td>154</td>\n",
       "      <td>417</td>\n",
       "      <td>10922</td>\n",
       "    </tr>\n",
       "  </tbody>\n",
       "</table>\n",
       "</div>"
      ],
      "text/plain": [
       "                        status_id  \\\n",
       "0  153080620724_10157915294545725   \n",
       "1  153080620724_10157914483265725   \n",
       "2  153080620724_10157913199155725   \n",
       "3  153080620724_10157912962325725   \n",
       "4  153080620724_10157912187170725   \n",
       "\n",
       "                                      status_message  \\\n",
       "0  Beautiful evening in Wisconsin- THANK YOU for ...   \n",
       "1  The State Department's quid pro quo scheme pro...   \n",
       "2  Crooked Hillary's State Department colluded wi...   \n",
       "3  JournoCash: Media gives $382,000 to Clinton, $...   \n",
       "4  Exclusive: \"O'Keefe Video Sting Exposes 'Bird-...   \n",
       "\n",
       "                                           link_name status_type  \\\n",
       "0                                    Timeline Photos       photo   \n",
       "1                                                NaN       video   \n",
       "2                                                NaN       video   \n",
       "3  JournoCash: Media gives $382,000 to Clinton, $...        link   \n",
       "4  O'Keefe Reveals 'Bird-Dogging' to Incite Viole...        link   \n",
       "\n",
       "                                         status_link     status_published  \\\n",
       "0  https://www.facebook.com/DonaldTrump/photos/a....  2016-10-17T20:56:51   \n",
       "1  https://www.facebook.com/DonaldTrump/videos/10...  2016-10-17T18:00:41   \n",
       "2  https://www.facebook.com/DonaldTrump/videos/10...  2016-10-17T15:34:46   \n",
       "3  http://www.washingtonexaminer.com/journocash-m...  2016-10-17T14:17:24   \n",
       "4  http://www.breitbart.com/big-government/2016/1...  2016-10-17T12:03:19   \n",
       "\n",
       "   num_reactions  num_comments  num_shares  num_likes  num_loves  num_wows  \\\n",
       "0           6813           543         359       6178        572        39   \n",
       "1          33768          3644       17653      26649        487      1155   \n",
       "2          85627          8810       32594      73519       2943      1020   \n",
       "3          22696          3665        5082      14029        122      2091   \n",
       "4          40729          4905       17087      26472        178      2588   \n",
       "\n",
       "   num_hahas  num_sads  num_angrys  \n",
       "0         17         0           7  \n",
       "1         75       191        5211  \n",
       "2        330       263        7552  \n",
       "3        241       286        5927  \n",
       "4        154       417       10922  "
      ]
     },
     "execution_count": 3,
     "metadata": {},
     "output_type": "execute_result"
    }
   ],
   "source": [
    "df.head()"
   ]
  },
  {
   "cell_type": "code",
   "execution_count": 4,
   "id": "bfd9fbfd-ee99-4529-9cbd-f667fc14ad73",
   "metadata": {},
   "outputs": [
    {
     "name": "stdout",
     "output_type": "stream",
     "text": [
      "<class 'pandas.core.frame.DataFrame'>\n",
      "RangeIndex: 4160 entries, 0 to 4159\n",
      "Data columns (total 15 columns):\n",
      " #   Column            Non-Null Count  Dtype \n",
      "---  ------            --------------  ----- \n",
      " 0   status_id         4160 non-null   object\n",
      " 1   status_message    3793 non-null   object\n",
      " 2   link_name         2715 non-null   object\n",
      " 3   status_type       4160 non-null   object\n",
      " 4   status_link       2983 non-null   object\n",
      " 5   status_published  4160 non-null   object\n",
      " 6   num_reactions     4160 non-null   int64 \n",
      " 7   num_comments      4160 non-null   int64 \n",
      " 8   num_shares        4160 non-null   int64 \n",
      " 9   num_likes         4160 non-null   int64 \n",
      " 10  num_loves         4160 non-null   int64 \n",
      " 11  num_wows          4160 non-null   int64 \n",
      " 12  num_hahas         4160 non-null   int64 \n",
      " 13  num_sads          4160 non-null   int64 \n",
      " 14  num_angrys        4160 non-null   int64 \n",
      "dtypes: int64(9), object(6)\n",
      "memory usage: 487.6+ KB\n"
     ]
    }
   ],
   "source": [
    "df.info()"
   ]
  },
  {
   "cell_type": "code",
   "execution_count": 5,
   "id": "a2580435-4f75-404f-bcea-0ced32ec8384",
   "metadata": {},
   "outputs": [
    {
     "data": {
      "text/plain": [
       "status_type\n",
       "photo     322\n",
       "link       23\n",
       "video      20\n",
       "event       1\n",
       "status      1\n",
       "dtype: int64"
      ]
     },
     "execution_count": 5,
     "metadata": {},
     "output_type": "execute_result"
    }
   ],
   "source": [
    "df[df[\"status_message\"].isna()].value_counts(\"status_type\")"
   ]
  },
  {
   "cell_type": "code",
   "execution_count": 6,
   "id": "adb27257-9c53-4b7d-824e-fbcdbc5091dc",
   "metadata": {},
   "outputs": [
    {
     "data": {
      "text/html": [
       "<div>\n",
       "<style scoped>\n",
       "    .dataframe tbody tr th:only-of-type {\n",
       "        vertical-align: middle;\n",
       "    }\n",
       "\n",
       "    .dataframe tbody tr th {\n",
       "        vertical-align: top;\n",
       "    }\n",
       "\n",
       "    .dataframe thead th {\n",
       "        text-align: right;\n",
       "    }\n",
       "</style>\n",
       "<table border=\"1\" class=\"dataframe\">\n",
       "  <thead>\n",
       "    <tr style=\"text-align: right;\">\n",
       "      <th></th>\n",
       "      <th>status_id</th>\n",
       "      <th>status_message</th>\n",
       "      <th>link_name</th>\n",
       "      <th>status_type</th>\n",
       "      <th>status_link</th>\n",
       "      <th>status_published</th>\n",
       "      <th>num_reactions</th>\n",
       "      <th>num_comments</th>\n",
       "      <th>num_shares</th>\n",
       "      <th>num_likes</th>\n",
       "      <th>num_loves</th>\n",
       "      <th>num_wows</th>\n",
       "      <th>num_hahas</th>\n",
       "      <th>num_sads</th>\n",
       "      <th>num_angrys</th>\n",
       "    </tr>\n",
       "  </thead>\n",
       "  <tbody>\n",
       "    <tr>\n",
       "      <th>595</th>\n",
       "      <td>153080620724_10157449931125725</td>\n",
       "      <td>NaN</td>\n",
       "      <td>NaN</td>\n",
       "      <td>status</td>\n",
       "      <td>NaN</td>\n",
       "      <td>2016-08-06T15:47:09</td>\n",
       "      <td>16698</td>\n",
       "      <td>1679</td>\n",
       "      <td>351</td>\n",
       "      <td>15715</td>\n",
       "      <td>835</td>\n",
       "      <td>67</td>\n",
       "      <td>32</td>\n",
       "      <td>5</td>\n",
       "      <td>44</td>\n",
       "    </tr>\n",
       "  </tbody>\n",
       "</table>\n",
       "</div>"
      ],
      "text/plain": [
       "                          status_id status_message link_name status_type  \\\n",
       "595  153080620724_10157449931125725            NaN       NaN      status   \n",
       "\n",
       "    status_link     status_published  num_reactions  num_comments  num_shares  \\\n",
       "595         NaN  2016-08-06T15:47:09          16698          1679         351   \n",
       "\n",
       "     num_likes  num_loves  num_wows  num_hahas  num_sads  num_angrys  \n",
       "595      15715        835        67         32         5          44  "
      ]
     },
     "execution_count": 6,
     "metadata": {},
     "output_type": "execute_result"
    }
   ],
   "source": [
    "df[(df[\"status_message\"].isna()) & (df[\"status_type\"] == \"status\")]"
   ]
  },
  {
   "cell_type": "code",
   "execution_count": 7,
   "id": "d537d22d-8706-4c67-8e38-1d46e41f7311",
   "metadata": {},
   "outputs": [
    {
     "data": {
      "text/plain": [
       "photo     1539\n",
       "status    1177\n",
       "link       764\n",
       "video      679\n",
       "event        1\n",
       "Name: status_type, dtype: int64"
      ]
     },
     "execution_count": 7,
     "metadata": {},
     "output_type": "execute_result"
    }
   ],
   "source": [
    "df[\"status_type\"].value_counts()"
   ]
  },
  {
   "cell_type": "code",
   "execution_count": null,
   "id": "447f8cf5-84ba-4824-8e58-1f27c0535b0e",
   "metadata": {},
   "outputs": [],
   "source": []
  }
 ],
 "metadata": {
  "environment": {
   "kernel": "python3",
   "name": "common-cpu.m89",
   "type": "gcloud",
   "uri": "gcr.io/deeplearning-platform-release/base-cpu:m89"
  },
  "kernelspec": {
   "display_name": "Python 3",
   "language": "python",
   "name": "python3"
  },
  "language_info": {
   "codemirror_mode": {
    "name": "ipython",
    "version": 3
   },
   "file_extension": ".py",
   "mimetype": "text/x-python",
   "name": "python",
   "nbconvert_exporter": "python",
   "pygments_lexer": "ipython3",
   "version": "3.7.12"
  }
 },
 "nbformat": 4,
 "nbformat_minor": 5
}
